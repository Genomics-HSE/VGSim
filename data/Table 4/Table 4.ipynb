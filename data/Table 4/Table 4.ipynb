{
 "cells": [
  {
   "cell_type": "code",
   "execution_count": 7,
   "id": "d756fcb3",
   "metadata": {},
   "outputs": [],
   "source": [
    "import os \n",
    "\n",
    "a = [\"0.01\", \"0.1\", \"1.0\"]\n",
    "b = [\"10^5\", \"10^6\", \"5*10^6\", \"10^7\", \"5*10^7\", \"1.5*10^8\"]\n",
    "for i in a:\n",
    "    for j in b:\n",
    "        os.mkdir(i + \"_\" + j)\n",
    "        os.chdir(i + \"_\" + j)\n",
    "        with open(\"script.py\", \"w\") as file:\n",
    "            file.write(\"from VGsim import Simulator\\n\")\n",
    "            file.write(\"\\n\")\n",
    "            file.write(\"simulator = Simulator(number_of_sites=2, populations_number=, number_of_susceptible_groups=2)\\n\")\n",
    "            file.write(\"simulator.set_transmmision_rate(2.5)\\n\")\n",
    "            file.write(\"simulator.set_recovery_rate(\" + str(1-float(i)) + \")\\n\")\n",
    "            file.write(\"simulator.set_sampling_rate(\" + i + \")\\n\")\n",
    "            \n",
    "            file.write(\"simulator.simulate(iterations=1000000000000, sample_size=\" + str(j) + \")\\n\")\n",
    "            file.write(\"simulator.genealogy()\")\n",
    "            \n",
    "        os.chdir(\"../\")"
   ]
  },
  {
   "cell_type": "code",
   "execution_count": 6,
   "id": "a31f1ff6",
   "metadata": {},
   "outputs": [],
   "source": [
    "os.chdir(\"../\")"
   ]
  },
  {
   "cell_type": "code",
   "execution_count": null,
   "id": "d12d13d6",
   "metadata": {},
   "outputs": [],
   "source": []
  }
 ],
 "metadata": {
  "kernelspec": {
   "display_name": "Python 3",
   "language": "python",
   "name": "python3"
  },
  "language_info": {
   "codemirror_mode": {
    "name": "ipython",
    "version": 3
   },
   "file_extension": ".py",
   "mimetype": "text/x-python",
   "name": "python",
   "nbconvert_exporter": "python",
   "pygments_lexer": "ipython3",
   "version": "3.8.8"
  }
 },
 "nbformat": 4,
 "nbformat_minor": 5
}
