{
 "cells": [
  {
   "cell_type": "code",
   "execution_count": 1,
   "id": "21e34b55-5141-4a79-bac3-ce2e1baf13fb",
   "metadata": {},
   "outputs": [
    {
     "name": "stdout",
     "output_type": "stream",
     "text": [
      "User seed: 6481243632198600528\n",
      "Actual sizes: 1000000.0 1000000.0 \n",
      "Achieved maximal number of iterations.\n",
      "Number of samples: 46300\n",
      "Total number of iterations: 10000000\n",
      "Success number: 1\n",
      "Epidemic time: 25.081792060378476\n",
      "Simulation time: 5.140546083450317\n",
      "Number of infections: 5200984\n",
      "Number of recoveries: 4659957\n",
      "Number of mutations: 92759\n",
      "Number of accepted migrations: 0\n",
      "Number of rejected migrations: 0\n",
      "----------------------------------\n"
     ]
    }
   ],
   "source": [
    "import VGsim\n",
    "\n",
    "simulator = VGsim.Simulator(2, 2, 3)\n",
    "simulator.simulate(10000000)"
   ]
  },
  {
   "cell_type": "code",
   "execution_count": null,
   "id": "55927862-1aa1-426c-b9d7-e51938a8b222",
   "metadata": {},
   "outputs": [],
   "source": []
  }
 ],
 "metadata": {
  "kernelspec": {
   "display_name": "Python 3 (ipykernel)",
   "language": "python",
   "name": "python3"
  },
  "language_info": {
   "codemirror_mode": {
    "name": "ipython",
    "version": 3
   },
   "file_extension": ".py",
   "mimetype": "text/x-python",
   "name": "python",
   "nbconvert_exporter": "python",
   "pygments_lexer": "ipython3",
   "version": "3.12.0"
  }
 },
 "nbformat": 4,
 "nbformat_minor": 5
}
