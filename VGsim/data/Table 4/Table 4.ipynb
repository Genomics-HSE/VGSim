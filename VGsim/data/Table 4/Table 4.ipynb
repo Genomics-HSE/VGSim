{
 "cells": [
  {
   "cell_type": "code",
   "execution_count": 7,
   "id": "d756fcb3",
   "metadata": {},
   "outputs": [],
   "source": [
    "from VGsim import Simulator\n",
    "import time\n",
    "import os \n",
    "\n",
    "def get_data(rate, size):\n",
    "    simulator = Simulator(number_of_sites=2, populations_number=100, number_of_susceptible_groups=1, seed=2023)\n",
    "    simulator.set_transmission_rate(2.5)\n",
    "    simulator.set_recovery_rate(1.0-rate)\n",
    "    simulator.set_sampling_rate(rate)\n",
    "    simulator.set_migration_probability(total_probability=0.005)\n",
    "    simulator.set_population_size(200000000)\n",
    "    time_1 = time.time()\n",
    "    simulator.simulate(iterations=size*300, sample_size=size)\n",
    "    time_2 = time.time()\n",
    "    simulator.genealogy(seed=2023)\n",
    "    time_3 = time.time()\n",
    "    \n",
    "    return [str(round(time_2 - time_1, 2)), str(round(time_3 - time_2, 2)), str(simulator.simulation.events.ptr), str(simulator.simulation.bCounter)]\n",
    "\n",
    "\n",
    "sampling_rate = [0.01, 0.1, 1.0]\n",
    "sample_size = [10**5, 10**6, 5*10**6, 10**7, 5*10**7, 1.5*10**8]\n",
    "\n",
    "with open('table.txt', 'w') as table:\n",
    "    table.write('\\\\begin{table}[ht]\\n')\n",
    "    table.write('\\t\\\\resizebox{\\\\linewidth}{!}{\\n')\n",
    "    table.write('\\t\\t\\\\begin{tabular}{|c||c|c|c|c|c|c|}\\n')\n",
    "    table.write('\\t\\t\\t\\\\hline\\n')\n",
    "    table.write('\\t\\t\\t\\t\\\\multirow{2}{*}{\\\\shortstack[c]{Cumulative\\\\\\\\migration\\\\\\\\probability $M$}} & \\\\multicolumn{6}{c|}{\\\\makecell{Number of demes $K$\\\\\\\\\\\\,}} \\\\\\\\\\n')\n",
    "    table.write('\\t\\t\\t\\\\cline{2-7}\\n')\n",
    "    table.write('\\t\\t\\t\\t& 2 & 5 & 10 & 20 & 50 & 100\\\\\\\\\\n')\n",
    "    table.write('\\t\\t\\t\\\\hline\\n')\n",
    "    for rate in samping_rates:\n",
    "        c = []\n",
    "        for size in sample_size:\n",
    "            c.append(get_data(number, rate))\n",
    "        table.write('\\t\\t\\t\\t'+str(rate)+' & '+c[0][0]+'s & '+c[1][0]+'s & '+c[2][0]+'s & '+c[3][0]+'s & '+c[4][0]+'s & '+c[5][0]+'s \\\\\\\\')\n",
    "        table.write('\\t\\t\\t\\t& '+c[0][1]+'\\\\% & '+c[1][1]+'\\\\% & '+c[2][1]+'\\\\% & '+c[3][1]+'\\\\% & '+c[4][1]+'\\\\% & '+c[5][1]+'\\\\% \\\\\\\\\\n')\n",
    "        table.write('\\t\\t\\t\\\\hline\\n')\n",
    "    table.write('\\t\\t\\\\end{tabular}\\n')\n",
    "    table.write('\\t}\\n')\n",
    "    table.write('\\\\end{table}\\n')"
   ]
  },
  {
   "cell_type": "code",
   "execution_count": null,
   "id": "e06d2c6e",
   "metadata": {},
   "outputs": [],
   "source": []
  }
 ],
 "metadata": {
  "kernelspec": {
   "display_name": "Python 3",
   "language": "python",
   "name": "python3"
  },
  "language_info": {
   "codemirror_mode": {
    "name": "ipython",
    "version": 3
   },
   "file_extension": ".py",
   "mimetype": "text/x-python",
   "name": "python",
   "nbconvert_exporter": "python",
   "pygments_lexer": "ipython3",
   "version": "3.8.8"
  }
 },
 "nbformat": 4,
 "nbformat_minor": 5
}
